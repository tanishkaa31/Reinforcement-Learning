{
 "cells": [
  {
   "cell_type": "code",
   "execution_count": 2,
   "id": "246f6bf8",
   "metadata": {},
   "outputs": [],
   "source": [
    "import numpy as np\n",
    "import matplotlib.pyplot as plt\n",
    "import time\n",
    "%matplotlib inline"
   ]
  },
  {
   "cell_type": "code",
   "execution_count": 6,
   "id": "d18b9679",
   "metadata": {},
   "outputs": [
    {
     "name": "stdout",
     "output_type": "stream",
     "text": [
      "Requirement already satisfied: gym in d:\\anaconda\\lib\\site-packages (0.26.2)\n",
      "Requirement already satisfied: importlib-metadata>=4.8.0 in d:\\anaconda\\lib\\site-packages (from gym) (6.6.0)\n",
      "Requirement already satisfied: gym-notices>=0.0.4 in d:\\anaconda\\lib\\site-packages (from gym) (0.0.8)\n",
      "Requirement already satisfied: numpy>=1.18.0 in d:\\anaconda\\lib\\site-packages (from gym) (1.19.2)\n",
      "Requirement already satisfied: cloudpickle>=1.2.0 in d:\\anaconda\\lib\\site-packages (from gym) (2.0.0)\n",
      "Requirement already satisfied: zipp>=0.5 in d:\\anaconda\\lib\\site-packages (from importlib-metadata>=4.8.0->gym) (3.6.0)\n"
     ]
    }
   ],
   "source": [
    "!pip install gym"
   ]
  },
  {
   "cell_type": "markdown",
   "id": "45e60441",
   "metadata": {},
   "source": [
    "## 1. Environment"
   ]
  },
  {
   "cell_type": "code",
   "execution_count": 7,
   "id": "fec73a8f",
   "metadata": {},
   "outputs": [
    {
     "name": "stderr",
     "output_type": "stream",
     "text": [
      "D:\\Anaconda\\lib\\site-packages\\gym\\envs\\registration.py:498: UserWarning: \u001b[33mWARN: Overriding environment FrozenLakeNotSlippery-v0 already in registry.\u001b[0m\n",
      "  logger.warn(f\"Overriding environment {new_spec.id} already in registry.\")\n"
     ]
    }
   ],
   "source": [
    "import gym\n",
    "from gym.envs.registration import register\n",
    "\n",
    "#convert slippery to non-slippery (deterministic)\n",
    "try:\n",
    "    register(\n",
    "    id = 'FrozenLakeNotSlippery-v0',\n",
    "    entry_point = 'gym.envs.toy_text:FrozenLakeEnv',\n",
    "    kwargs={'map_name' : '4x4', 'is_slippery': False},\n",
    "    max_episode_steps = 100,\n",
    "    reward_threshold = 0.78,\n",
    "  )\n",
    "except:\n",
    "    print('Already registered!')"
   ]
  },
  {
   "cell_type": "code",
   "execution_count": 4,
   "id": "c6ab526e",
   "metadata": {},
   "outputs": [],
   "source": [
    "from IPython.display import clear_output"
   ]
  },
  {
   "cell_type": "code",
   "execution_count": 5,
   "id": "afe22ef4",
   "metadata": {},
   "outputs": [],
   "source": [
    "# env = gym.make('FrozenLakeNotSlippery-v0', render_mode='human')\n",
    "# env.reset()\n",
    "\n",
    "# for step in range(15):\n",
    "#     env.render()\n",
    "#     action = env.action_space.sample()\n",
    "#     observation, reward, done,truncated, info = env.step(action)\n",
    "#     time.sleep(0.5)\n",
    "# #     clear_output(wait = True)\n",
    "#     if done:\n",
    "#         env.reset()\n",
    "\n",
    "# time.sleep(0.5)\n",
    "# env.close()"
   ]
  },
  {
   "cell_type": "code",
   "execution_count": 45,
   "id": "01f5e246",
   "metadata": {},
   "outputs": [
    {
     "data": {
      "text/plain": [
       "array([[0., 0., 0., 0.],\n",
       "       [0., 0., 0., 0.],\n",
       "       [0., 0., 0., 0.],\n",
       "       [0., 0., 0., 0.],\n",
       "       [0., 0., 0., 0.],\n",
       "       [0., 0., 0., 0.],\n",
       "       [0., 0., 0., 0.],\n",
       "       [0., 0., 0., 0.],\n",
       "       [0., 0., 0., 0.],\n",
       "       [0., 0., 0., 0.],\n",
       "       [0., 0., 0., 0.],\n",
       "       [0., 0., 0., 0.],\n",
       "       [0., 0., 0., 0.],\n",
       "       [0., 0., 0., 0.],\n",
       "       [0., 0., 0., 0.],\n",
       "       [0., 0., 0., 0.]])"
      ]
     },
     "execution_count": 45,
     "metadata": {},
     "output_type": "execute_result"
    }
   ],
   "source": [
    "action_size = env.action_space.n\n",
    "state_size = env.observation_space.n\n",
    "# rows -- states, columns -- actions\n",
    "q_table = np.zeros([state_size, action_size]) #4 actions on a 4x4 grid lead to 16 states\n",
    "q_table"
   ]
  },
  {
   "cell_type": "markdown",
   "id": "ea50b353",
   "metadata": {},
   "source": [
    "## 2. Hyperparameters"
   ]
  },
  {
   "cell_type": "code",
   "execution_count": 8,
   "id": "c30df7a1",
   "metadata": {},
   "outputs": [],
   "source": [
    "EPOCHS = 20000 #how many times agent plays the game\n",
    "ALPHA = 0.8 #learning rate\n",
    "GAMMA = 0.95 #discount rate"
   ]
  },
  {
   "cell_type": "code",
   "execution_count": 9,
   "id": "e193377a",
   "metadata": {},
   "outputs": [],
   "source": [
    "epsilon = 1.0\n",
    "max_epsilon = 1.0\n",
    "min_epsilon = 0.01\n",
    "decay_rate = 0.001"
   ]
  },
  {
   "cell_type": "markdown",
   "id": "2d74b951",
   "metadata": {},
   "source": [
    "## 3. Update Functions"
   ]
  },
  {
   "cell_type": "code",
   "execution_count": 10,
   "id": "ec39d451",
   "metadata": {},
   "outputs": [],
   "source": [
    "def epsilon_greedy_action_selection(epsilon, q_table, discrete_state):\n",
    "    \n",
    "    random_number = np.random.random() #returns a no. between 0 and 1, thus\n",
    "                                    #will always start by exploring, since epsilon initially = 1\n",
    "    \n",
    "    #EXPLOITATION (choose the action that maximizes Q)\n",
    "    if random_number > epsilon:\n",
    "        \n",
    "        state_row = q_table[discrete_state, :]\n",
    "        action = np.argmax(state_row)\n",
    "    \n",
    "    #EXPLORATION (choose a random action)\n",
    "    else:\n",
    "        action = env.action_space.sample()\n",
    "    \n",
    "    return action    "
   ]
  },
  {
   "cell_type": "code",
   "execution_count": 21,
   "id": "edab23e1",
   "metadata": {},
   "outputs": [],
   "source": [
    "def compute_next_q_value(old_q_value, reward, next_optimal_q_value):\n",
    "    \n",
    "    return old_q_value + ALPHA*(GAMMA*next_optimal_q_value + reward - old_q_value)"
   ]
  },
  {
   "cell_type": "code",
   "execution_count": 12,
   "id": "ba473a05",
   "metadata": {},
   "outputs": [],
   "source": [
    "def reduce_epsilon(epsilon, epoch):\n",
    "    \n",
    "    return min_epsilon + (max_epsilon - min_epsilon)*np.exp(-decay_rate*epoch)"
   ]
  },
  {
   "cell_type": "markdown",
   "id": "a6b5aa6a",
   "metadata": {},
   "source": [
    "## 4. Agent Training"
   ]
  },
  {
   "cell_type": "code",
   "execution_count": 47,
   "id": "295f7c91",
   "metadata": {},
   "outputs": [
    {
     "name": "stdout",
     "output_type": "stream",
     "text": [
      "271.0\n",
      "998.0\n",
      "1902.0\n",
      "2866.0\n",
      "3845.0\n",
      "4831.0\n",
      "5823.0\n",
      "6820.0\n",
      "7812.0\n",
      "8804.0\n",
      "9791.0\n",
      "10777.0\n",
      "11764.0\n",
      "12749.0\n",
      "13735.0\n",
      "14728.0\n",
      "15722.0\n",
      "16713.0\n",
      "17698.0\n",
      "18693.0\n"
     ]
    },
    {
     "data": {
      "image/png": "[encoded data removed]",
      "text/plain": [
       "<Figure size 432x288 with 1 Axes>"
      ]
     },
     "metadata": {
      "needs_background": "light"
     },
     "output_type": "display_data"
    }
   ],
   "source": [
    "rewards = []\n",
    "log_interval = 1000\n",
    "\n",
    "\n",
    "fig = plt.figure()\n",
    "ax = fig.add_subplot(111)\n",
    "plt.ion()\n",
    "fig.canvas.draw()\n",
    "epoch_plot_tracker = []\n",
    "total_reward_plot_tracker = []\n",
    "\n",
    "\n",
    "env = gym.make('FrozenLakeNotSlippery-v0')\n",
    "env.reset()\n",
    "\n",
    "for episode in range(EPOCHS):\n",
    "\n",
    "    state = env.reset()[0]\n",
    "    done = False\n",
    "    total_rewards = 0\n",
    "    \n",
    "    #Agent plays the game\n",
    "    while not done:\n",
    "        \n",
    "        #PERFORM ACTION\n",
    "        action = epsilon_greedy_action_selection(epsilon, q_table, state)\n",
    "        \n",
    "#         print(state)\n",
    "\n",
    "        #state, reward...env.step() - GET RESULTS OF ACTION\n",
    "        new_state, reward, done, truncated, info = env.step(action)\n",
    "        \n",
    "        #GET OLD Q VALUE\n",
    "        old_q_value = q_table[state, action]\n",
    "        \n",
    "        #GET NEXT OPTIMAL Q VALUE\n",
    "        next_optimal_q_value = np.max(q_table[new_state, :])\n",
    "        \n",
    "        #COMPUTE NEXT Q VALUE (EXPLORE/EXPLOIT)\n",
    "        next_q_value = compute_next_q_value(old_q_value, reward, next_optimal_q_value)\n",
    "       \n",
    "        #UPDATE Q TABLE\n",
    "        q_table[state, action] = next_q_value\n",
    "        \n",
    "        #TRACK REWARDS\n",
    "        total_rewards += reward \n",
    "        \n",
    "#         print(new_state)\n",
    "\n",
    "        state = new_state\n",
    "        \n",
    "    #Agent finishes the game\n",
    "    episode += 1\n",
    "    \n",
    "    epsilon = reduce_epsilon(epsilon, episode)\n",
    "    \n",
    "    rewards.append(total_rewards)\n",
    "    \n",
    "    \n",
    "    total_reward_plot_tracker.append(np.sum(rewards))\n",
    "    epoch_plot_tracker.append(episode)\n",
    "    \n",
    "    #Print rewards every 1000 episodes\n",
    "    if episode%log_interval == 0:\n",
    "        ax.clear()\n",
    "        ax.plot(epoch_plot_tracker, total_reward_plot_tracker)\n",
    "        fig.canvas.draw()\n",
    "        print(np.sum(rewards))\n",
    "    \n",
    "env.close()    "
   ]
  },
  {
   "cell_type": "markdown",
   "id": "fb332576",
   "metadata": {},
   "source": [
    "## Trained Agent"
   ]
  },
  {
   "cell_type": "code",
   "execution_count": 44,
   "id": "0bee972f",
   "metadata": {},
   "outputs": [
    {
     "data": {
      "text/plain": [
       "array([[0.73509189, 0.77378094, 0.77378094, 0.73509189],\n",
       "       [0.73509189, 0.        , 0.81450625, 0.77378094],\n",
       "       [0.77378094, 0.857375  , 0.77378094, 0.81450625],\n",
       "       [0.81450625, 0.        , 0.7734419 , 0.7737809 ],\n",
       "       [0.77378094, 0.81450625, 0.        , 0.73509189],\n",
       "       [0.        , 0.        , 0.        , 0.        ],\n",
       "       [0.        , 0.9025    , 0.        , 0.81450625],\n",
       "       [0.        , 0.        , 0.        , 0.        ],\n",
       "       [0.81450625, 0.        , 0.857375  , 0.77378094],\n",
       "       [0.81450625, 0.9025    , 0.9025    , 0.        ],\n",
       "       [0.857375  , 0.95      , 0.        , 0.857375  ],\n",
       "       [0.        , 0.        , 0.        , 0.        ],\n",
       "       [0.        , 0.        , 0.        , 0.        ],\n",
       "       [0.        , 0.9025    , 0.95      , 0.857375  ],\n",
       "       [0.9025    , 0.95      , 1.        , 0.9025    ],\n",
       "       [0.        , 0.        , 0.        , 0.        ]])"
      ]
     },
     "execution_count": 44,
     "metadata": {},
     "output_type": "execute_result"
    }
   ],
   "source": [
    "q_table"
   ]
  },
  {
   "cell_type": "code",
   "execution_count": 48,
   "id": "12bf71c1",
   "metadata": {},
   "outputs": [],
   "source": [
    "env = gym.make('FrozenLakeNotSlippery-v0', render_mode='human')\n",
    "state = env.reset()[0]\n",
    "\n",
    "for steps in range(100):\n",
    "    env.render()\n",
    "    action = np.argmax(q_table[state, :])\n",
    "    state, reward, done, trunc, info = env.step(action)\n",
    "    time.sleep(1)\n",
    "    if done:\n",
    "        break\n",
    "        \n",
    "time.sleep(1)\n",
    "env.close()"
   ]
  },
  {
   "cell_type": "code",
   "execution_count": null,
   "id": "a02322e1",
   "metadata": {},
   "outputs": [],
   "source": []
  }
 ],
 "metadata": {
  "kernelspec": {
   "display_name": "Python 3 (ipykernel)",
   "language": "python",
   "name": "python3"
  },
  "language_info": {
   "codemirror_mode": {
    "name": "ipython",
    "version": 3
   },
   "file_extension": ".py",
   "mimetype": "text/x-python",
   "name": "python",
   "nbconvert_exporter": "python",
   "pygments_lexer": "ipython3",
   "version": "3.8.11"
  }
 },
 "nbformat": 4,
 "nbformat_minor": 5
}
